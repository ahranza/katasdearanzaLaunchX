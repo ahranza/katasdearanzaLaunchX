{
 "cells": [
  {
   "cell_type": "code",
   "execution_count": 38,
   "metadata": {},
   "outputs": [],
   "source": [
    "planeta_nuevo = ''\n",
    "\n",
    "planetas = []\n",
    "\n",
    "while planeta_nuevo.lower() != 'done':\n",
    "    if planeta_nuevo:\n",
    "        planetas.append(planeta_nuevo)\n",
    "    planeta_nuevo = input('Introducir palabra nueva')\n",
    "\n",
    "\n"
   ]
  },
  {
   "cell_type": "code",
   "execution_count": 36,
   "metadata": {},
   "outputs": [],
   "source": [
    "planetas = []\n",
    "planeta_nuevo= ''\n",
    "\n",
    "for planeta in planetas:\n",
    "    print(planeta)"
   ]
  }
 ],
 "metadata": {
  "interpreter": {
   "hash": "49de5bbfc9220849eae61ccf8c673b5bd151f48e47d5ebb5b22e87d98f805354"
  },
  "kernelspec": {
   "display_name": "Python 3.10.2 64-bit",
   "language": "python",
   "name": "python3"
  },
  "language_info": {
   "codemirror_mode": {
    "name": "ipython",
    "version": 3
   },
   "file_extension": ".py",
   "mimetype": "text/x-python",
   "name": "python",
   "nbconvert_exporter": "python",
   "pygments_lexer": "ipython3",
   "version": "3.10.2"
  },
  "orig_nbformat": 4
 },
 "nbformat": 4,
 "nbformat_minor": 2
}
