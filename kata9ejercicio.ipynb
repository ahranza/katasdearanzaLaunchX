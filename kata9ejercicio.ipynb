{
 "cells": [
  {
   "cell_type": "code",
   "execution_count": 6,
   "metadata": {},
   "outputs": [],
   "source": [
    "def partes_cohete():\n",
    "    print('payload, propellant , structure')"
   ]
  },
  {
   "cell_type": "code",
   "execution_count": 11,
   "metadata": {},
   "outputs": [
    {
     "name": "stdout",
     "output_type": "stream",
     "text": [
      "payload, propellant , structure\n"
     ]
    },
    {
     "data": {
      "text/plain": [
       "'payload, propellant, structure'"
      ]
     },
     "execution_count": 11,
     "metadata": {},
     "output_type": "execute_result"
    }
   ],
   "source": [
    "partes_cohete()\n",
    "'payload, propellant, structure'"
   ]
  },
  {
   "cell_type": "code",
   "execution_count": 15,
   "metadata": {},
   "outputs": [
    {
     "name": "stdout",
     "output_type": "stream",
     "text": [
      "payload, propellant , structure\n"
     ]
    },
    {
     "data": {
      "text/plain": [
       "True"
      ]
     },
     "execution_count": 15,
     "metadata": {},
     "output_type": "execute_result"
    }
   ],
   "source": [
    ">>> output = partes_cohete()\n",
    "'payload, propellant, structure'\n",
    "\n",
    ">>> output is None"
   ]
  },
  {
   "cell_type": "code",
   "execution_count": 17,
   "metadata": {},
   "outputs": [
    {
     "data": {
      "text/plain": [
       "'payloud, prpellant, structure'"
      ]
     },
     "execution_count": 17,
     "metadata": {},
     "output_type": "execute_result"
    }
   ],
   "source": [
    ">>> def partes_cohete():\n",
    "        return 'payloud, propellant, structure'\n",
    "\n",
    ">>> output = partes_cohete()\n",
    ">>> output\n",
    "'payloud, prpellant, structure'        "
   ]
  },
  {
   "cell_type": "code",
   "execution_count": 19,
   "metadata": {},
   "outputs": [
    {
     "ename": "NameError",
     "evalue": "name 'true' is not defined",
     "output_type": "error",
     "traceback": [
      "\u001b[1;31m---------------------------------------------------------------------------\u001b[0m",
      "\u001b[1;31mNameError\u001b[0m                                 Traceback (most recent call last)",
      "\u001b[1;32mc:\\Users\\Aranza\\Documents\\Curso Microsoft\\Katas\\kata9.ipynb Cell 5'\u001b[0m in \u001b[0;36m<module>\u001b[1;34m\u001b[0m\n\u001b[1;32m----> <a href='vscode-notebook-cell:/c%3A/Users/Aranza/Documents/Curso%20Microsoft/Katas/kata9.ipynb#ch0000005?line=0'>1</a>\u001b[0m \u001b[39many\u001b[39m([true, false, false])\n",
      "\u001b[1;31mNameError\u001b[0m: name 'true' is not defined"
     ]
    }
   ],
   "source": [
    ">>> any([rue, false, false])\n"
   ]
  },
  {
   "cell_type": "code",
   "execution_count": 20,
   "metadata": {},
   "outputs": [
    {
     "data": {
      "text/plain": [
       "False"
      ]
     },
     "execution_count": 20,
     "metadata": {},
     "output_type": "execute_result"
    }
   ],
   "source": [
    ">>> any([True, False, False])\n",
    "True\n",
    ">>> any([False, False, False])\n",
    "False\n"
   ]
  },
  {
   "cell_type": "code",
   "execution_count": 21,
   "metadata": {},
   "outputs": [
    {
     "ename": "SyntaxError",
     "evalue": "invalid syntax. Perhaps you forgot a comma? (132912191.py, line 2)",
     "output_type": "error",
     "traceback": [
      "\u001b[1;36m  Input \u001b[1;32mIn [21]\u001b[1;36m\u001b[0m\n\u001b[1;33m    Traceback (most recent call last):\u001b[0m\n\u001b[1;37m               ^\u001b[0m\n\u001b[1;31mSyntaxError\u001b[0m\u001b[1;31m:\u001b[0m invalid syntax. Perhaps you forgot a comma?\n"
     ]
    }
   ],
   "source": [
    ">>> any()\n",
    "Traceback (most recent call last):\n",
    "  File '<stdin>', line 1, in <module>\n",
    "TypeError: any() takes exactly one argument (0 given)"
   ]
  },
  {
   "cell_type": "code",
   "execution_count": 23,
   "metadata": {},
   "outputs": [
    {
     "data": {
      "text/plain": [
       "'15'"
      ]
     },
     "execution_count": 23,
     "metadata": {},
     "output_type": "execute_result"
    }
   ],
   "source": [
    ">>> str()\n",
    "''\n",
    ">>> str(15)\n",
    "'15'"
   ]
  },
  {
   "cell_type": "code",
   "execution_count": 24,
   "metadata": {},
   "outputs": [],
   "source": [
    "def distancia_de_tierra(destino):\n",
    "    if destino == 'luna':\n",
    "        return '238,855'\n",
    "    else:\n",
    "        return 'No se puede computar a ese destino'"
   ]
  },
  {
   "cell_type": "code",
   "execution_count": 28,
   "metadata": {},
   "outputs": [
    {
     "ename": "SyntaxError",
     "evalue": "invalid syntax. Perhaps you forgot a comma? (2294601586.py, line 2)",
     "output_type": "error",
     "traceback": [
      "\u001b[1;36m  Input \u001b[1;32mIn [28]\u001b[1;36m\u001b[0m\n\u001b[1;33m    Traceback (most recent call last):\u001b[0m\n\u001b[1;37m               ^\u001b[0m\n\u001b[1;31mSyntaxError\u001b[0m\u001b[1;31m:\u001b[0m invalid syntax. Perhaps you forgot a comma?\n"
     ]
    }
   ],
   "source": [
    ">>> distancia_de_tierra()\n",
    "Traceback (most recent call last):\n",
    "\n",
    "\n"
   ]
  },
  {
   "cell_type": "code",
   "execution_count": 30,
   "metadata": {},
   "outputs": [
    {
     "ename": "SyntaxError",
     "evalue": "invalid syntax. Perhaps you forgot a comma? (2515019519.py, line 2)",
     "output_type": "error",
     "traceback": [
      "\u001b[1;36m  Input \u001b[1;32mIn [30]\u001b[1;36m\u001b[0m\n\u001b[1;33m    Traceback (most recent call last):\u001b[0m\n\u001b[1;37m               ^\u001b[0m\n\u001b[1;31mSyntaxError\u001b[0m\u001b[1;31m:\u001b[0m invalid syntax. Perhaps you forgot a comma?\n"
     ]
    }
   ],
   "source": [
    ">>> distance_from_earth()\n",
    "Traceback (most recent call last):\n",
    "  File '<stdin>', line 1, in <module>"
   ]
  },
  {
   "cell_type": "code",
   "execution_count": 31,
   "metadata": {},
   "outputs": [
    {
     "data": {
      "text/plain": [
       "'238,855'"
      ]
     },
     "execution_count": 31,
     "metadata": {},
     "output_type": "execute_result"
    }
   ],
   "source": [
    ">>> distancia_de_tierra('luna')\n",
    "'238,855'"
   ]
  },
  {
   "cell_type": "code",
   "execution_count": 32,
   "metadata": {},
   "outputs": [
    {
     "data": {
      "text/plain": [
       "'No se puede computar ese destino'"
      ]
     },
     "execution_count": 32,
     "metadata": {},
     "output_type": "execute_result"
    }
   ],
   "source": [
    ">>> distancia_de_tierra('saturno')\n",
    "'No se puede computar ese destino'"
   ]
  },
  {
   "cell_type": "code",
   "execution_count": 42,
   "metadata": {},
   "outputs": [],
   "source": [
    "def dias_para_completar(distancia, velocidad):\n",
    "    horas = distancia/velocidad\n",
    "    return horas/24\n",
    "\n",
    " "
   ]
  },
  {
   "cell_type": "code",
   "execution_count": 44,
   "metadata": {},
   "outputs": [
    {
     "data": {
      "text/plain": [
       "132.69722222222222"
      ]
     },
     "execution_count": 44,
     "metadata": {},
     "output_type": "execute_result"
    }
   ],
   "source": [
    ">>> dias_para_completar(238855, 75)\n",
    "132.69722222222222"
   ]
  },
  {
   "cell_type": "code",
   "execution_count": 45,
   "metadata": {},
   "outputs": [
    {
     "data": {
      "text/plain": [
       "133"
      ]
     },
     "execution_count": 45,
     "metadata": {},
     "output_type": "execute_result"
    }
   ],
   "source": [
    ">>> dias_totales = dias_para_completar (238855, 75)\n",
    ">>> round(dias_totales)"
   ]
  },
  {
   "cell_type": "code",
   "execution_count": 46,
   "metadata": {},
   "outputs": [
    {
     "data": {
      "text/plain": [
       "133"
      ]
     },
     "execution_count": 46,
     "metadata": {},
     "output_type": "execute_result"
    }
   ],
   "source": [
    ">>> round (dias_para_completar (238855, 75))\n"
   ]
  },
  {
   "cell_type": "code",
   "execution_count": 57,
   "metadata": {},
   "outputs": [],
   "source": [
    "from datetime import timedelta, datetime\n",
    "def hora_llegada (horas=51):\n",
    "    now = datetime.now()\n",
    "    llegada = now + timedelta( horas = 51)\n",
    "    return llegada.strftime('llegada:%A %H:%M')"
   ]
  },
  {
   "cell_type": "code",
   "execution_count": 59,
   "metadata": {},
   "outputs": [
    {
     "ename": "TypeError",
     "evalue": "'horas' is an invalid keyword argument for __new__()",
     "output_type": "error",
     "traceback": [
      "\u001b[1;31m---------------------------------------------------------------------------\u001b[0m",
      "\u001b[1;31mTypeError\u001b[0m                                 Traceback (most recent call last)",
      "\u001b[1;32mc:\\Users\\Aranza\\Documents\\Curso Microsoft\\Katas\\kata9.ipynb Cell 19'\u001b[0m in \u001b[0;36m<module>\u001b[1;34m\u001b[0m\n\u001b[1;32m----> <a href='vscode-notebook-cell:/c%3A/Users/Aranza/Documents/Curso%20Microsoft/Katas/kata9.ipynb#ch0000023?line=0'>1</a>\u001b[0m hora_llegada()\n\u001b[0;32m      <a href='vscode-notebook-cell:/c%3A/Users/Aranza/Documents/Curso%20Microsoft/Katas/kata9.ipynb#ch0000023?line=1'>2</a>\u001b[0m \u001b[39m'\u001b[39m\u001b[39mLlegada: Sabado 16:42\u001b[39m\u001b[39m'\u001b[39m\n",
      "\u001b[1;32mc:\\Users\\Aranza\\Documents\\Curso Microsoft\\Katas\\kata9.ipynb Cell 18'\u001b[0m in \u001b[0;36mhora_llegada\u001b[1;34m(horas)\u001b[0m\n\u001b[0;32m      <a href='vscode-notebook-cell:/c%3A/Users/Aranza/Documents/Curso%20Microsoft/Katas/kata9.ipynb#ch0000022?line=1'>2</a>\u001b[0m \u001b[39mdef\u001b[39;00m \u001b[39mhora_llegada\u001b[39m (horas\u001b[39m=\u001b[39m\u001b[39m51\u001b[39m):\n\u001b[0;32m      <a href='vscode-notebook-cell:/c%3A/Users/Aranza/Documents/Curso%20Microsoft/Katas/kata9.ipynb#ch0000022?line=2'>3</a>\u001b[0m     now \u001b[39m=\u001b[39m datetime\u001b[39m.\u001b[39mnow()\n\u001b[1;32m----> <a href='vscode-notebook-cell:/c%3A/Users/Aranza/Documents/Curso%20Microsoft/Katas/kata9.ipynb#ch0000022?line=3'>4</a>\u001b[0m     llegada \u001b[39m=\u001b[39m now \u001b[39m+\u001b[39m timedelta( horas \u001b[39m=\u001b[39;49m \u001b[39m51\u001b[39;49m)\n\u001b[0;32m      <a href='vscode-notebook-cell:/c%3A/Users/Aranza/Documents/Curso%20Microsoft/Katas/kata9.ipynb#ch0000022?line=4'>5</a>\u001b[0m     \u001b[39mreturn\u001b[39;00m llegada\u001b[39m.\u001b[39mstrftime(\u001b[39m'\u001b[39m\u001b[39mllegada:\u001b[39m\u001b[39m%\u001b[39m\u001b[39mA \u001b[39m\u001b[39m%\u001b[39m\u001b[39mH:\u001b[39m\u001b[39m%\u001b[39m\u001b[39mM\u001b[39m\u001b[39m'\u001b[39m)\n",
      "\u001b[1;31mTypeError\u001b[0m: 'horas' is an invalid keyword argument for __new__()"
     ]
    }
   ],
   "source": [
    ">>> hora_llegada()\n",
    "'Llegada: Sabado 16:42'"
   ]
  },
  {
   "cell_type": "code",
   "execution_count": 62,
   "metadata": {},
   "outputs": [
    {
     "ename": "TypeError",
     "evalue": "'horas' is an invalid keyword argument for __new__()",
     "output_type": "error",
     "traceback": [
      "\u001b[1;31m---------------------------------------------------------------------------\u001b[0m",
      "\u001b[1;31mTypeError\u001b[0m                                 Traceback (most recent call last)",
      "\u001b[1;32mc:\\Users\\Aranza\\Documents\\Curso Microsoft\\Katas\\kata9.ipynb Cell 20'\u001b[0m in \u001b[0;36m<module>\u001b[1;34m\u001b[0m\n\u001b[1;32m----> <a href='vscode-notebook-cell:/c%3A/Users/Aranza/Documents/Curso%20Microsoft/Katas/kata9.ipynb#ch0000025?line=0'>1</a>\u001b[0m hora_llegada(horas \u001b[39m=\u001b[39;49m \u001b[39m0\u001b[39;49m)\n\u001b[0;32m      <a href='vscode-notebook-cell:/c%3A/Users/Aranza/Documents/Curso%20Microsoft/Katas/kata9.ipynb#ch0000025?line=1'>2</a>\u001b[0m \u001b[39m'\u001b[39m\u001b[39mllegada: jueves 13.42\u001b[39m\u001b[39m'\u001b[39m\n",
      "\u001b[1;32mc:\\Users\\Aranza\\Documents\\Curso Microsoft\\Katas\\kata9.ipynb Cell 18'\u001b[0m in \u001b[0;36mhora_llegada\u001b[1;34m(horas)\u001b[0m\n\u001b[0;32m      <a href='vscode-notebook-cell:/c%3A/Users/Aranza/Documents/Curso%20Microsoft/Katas/kata9.ipynb#ch0000022?line=1'>2</a>\u001b[0m \u001b[39mdef\u001b[39;00m \u001b[39mhora_llegada\u001b[39m (horas\u001b[39m=\u001b[39m\u001b[39m51\u001b[39m):\n\u001b[0;32m      <a href='vscode-notebook-cell:/c%3A/Users/Aranza/Documents/Curso%20Microsoft/Katas/kata9.ipynb#ch0000022?line=2'>3</a>\u001b[0m     now \u001b[39m=\u001b[39m datetime\u001b[39m.\u001b[39mnow()\n\u001b[1;32m----> <a href='vscode-notebook-cell:/c%3A/Users/Aranza/Documents/Curso%20Microsoft/Katas/kata9.ipynb#ch0000022?line=3'>4</a>\u001b[0m     llegada \u001b[39m=\u001b[39m now \u001b[39m+\u001b[39m timedelta( horas \u001b[39m=\u001b[39;49m \u001b[39m51\u001b[39;49m)\n\u001b[0;32m      <a href='vscode-notebook-cell:/c%3A/Users/Aranza/Documents/Curso%20Microsoft/Katas/kata9.ipynb#ch0000022?line=4'>5</a>\u001b[0m     \u001b[39mreturn\u001b[39;00m llegada\u001b[39m.\u001b[39mstrftime(\u001b[39m'\u001b[39m\u001b[39mllegada:\u001b[39m\u001b[39m%\u001b[39m\u001b[39mA \u001b[39m\u001b[39m%\u001b[39m\u001b[39mH:\u001b[39m\u001b[39m%\u001b[39m\u001b[39mM\u001b[39m\u001b[39m'\u001b[39m)\n",
      "\u001b[1;31mTypeError\u001b[0m: 'horas' is an invalid keyword argument for __new__()"
     ]
    }
   ],
   "source": [
    ">>> hora_llegada(horas = 0)\n",
    "'llegada: jueves 13.42'"
   ]
  },
  {
   "cell_type": "code",
   "execution_count": 64,
   "metadata": {},
   "outputs": [],
   "source": [
    "from datetime import timedelta, datetime\n",
    "def hora_llegada(destino, horas=51):\n",
    "    now = datetime.now()\n",
    "    llegada = now + timedelta(horas=51)\n",
    "    return llegada.strftime(f'{destino} llegada: %A %H:%m')"
   ]
  },
  {
   "cell_type": "code",
   "execution_count": 65,
   "metadata": {},
   "outputs": [
    {
     "ename": "SyntaxError",
     "evalue": "invalid syntax. Perhaps you forgot a comma? (2216044925.py, line 2)",
     "output_type": "error",
     "traceback": [
      "\u001b[1;36m  Input \u001b[1;32mIn [65]\u001b[1;36m\u001b[0m\n\u001b[1;33m    Traceback (most recent call last):\u001b[0m\n\u001b[1;37m               ^\u001b[0m\n\u001b[1;31mSyntaxError\u001b[0m\u001b[1;31m:\u001b[0m invalid syntax. Perhaps you forgot a comma?\n"
     ]
    }
   ],
   "source": [
    ">>> hora_llegada()\n",
    "Traceback (most recent call last):"
   ]
  },
  {
   "cell_type": "code",
   "execution_count": 66,
   "metadata": {},
   "outputs": [
    {
     "ename": "TypeError",
     "evalue": "'horas' is an invalid keyword argument for __new__()",
     "output_type": "error",
     "traceback": [
      "\u001b[1;31m---------------------------------------------------------------------------\u001b[0m",
      "\u001b[1;31mTypeError\u001b[0m                                 Traceback (most recent call last)",
      "\u001b[1;32mc:\\Users\\Aranza\\Documents\\Curso Microsoft\\Katas\\kata9.ipynb Cell 23'\u001b[0m in \u001b[0;36m<module>\u001b[1;34m\u001b[0m\n\u001b[1;32m----> <a href='vscode-notebook-cell:/c%3A/Users/Aranza/Documents/Curso%20Microsoft/Katas/kata9.ipynb#ch0000029?line=0'>1</a>\u001b[0m hora_llegada(\u001b[39m'\u001b[39;49m\u001b[39mluna\u001b[39;49m\u001b[39m'\u001b[39;49m)\n\u001b[0;32m      <a href='vscode-notebook-cell:/c%3A/Users/Aranza/Documents/Curso%20Microsoft/Katas/kata9.ipynb#ch0000029?line=1'>2</a>\u001b[0m \u001b[39m'\u001b[39m\u001b[39mllegada luna: sabado 16:54\u001b[39m\u001b[39m'\u001b[39m\n",
      "\u001b[1;32mc:\\Users\\Aranza\\Documents\\Curso Microsoft\\Katas\\kata9.ipynb Cell 21'\u001b[0m in \u001b[0;36mhora_llegada\u001b[1;34m(destino, horas)\u001b[0m\n\u001b[0;32m      <a href='vscode-notebook-cell:/c%3A/Users/Aranza/Documents/Curso%20Microsoft/Katas/kata9.ipynb#ch0000026?line=1'>2</a>\u001b[0m \u001b[39mdef\u001b[39;00m \u001b[39mhora_llegada\u001b[39m(destino, horas\u001b[39m=\u001b[39m\u001b[39m51\u001b[39m):\n\u001b[0;32m      <a href='vscode-notebook-cell:/c%3A/Users/Aranza/Documents/Curso%20Microsoft/Katas/kata9.ipynb#ch0000026?line=2'>3</a>\u001b[0m     now \u001b[39m=\u001b[39m datetime\u001b[39m.\u001b[39mnow()\n\u001b[1;32m----> <a href='vscode-notebook-cell:/c%3A/Users/Aranza/Documents/Curso%20Microsoft/Katas/kata9.ipynb#ch0000026?line=3'>4</a>\u001b[0m     llegada \u001b[39m=\u001b[39m now \u001b[39m+\u001b[39m timedelta(horas\u001b[39m=\u001b[39;49m\u001b[39m51\u001b[39;49m)\n\u001b[0;32m      <a href='vscode-notebook-cell:/c%3A/Users/Aranza/Documents/Curso%20Microsoft/Katas/kata9.ipynb#ch0000026?line=4'>5</a>\u001b[0m     \u001b[39mreturn\u001b[39;00m llegada\u001b[39m.\u001b[39mstrftime(\u001b[39mf\u001b[39m\u001b[39m'\u001b[39m\u001b[39m{\u001b[39;00mdestino\u001b[39m}\u001b[39;00m\u001b[39m llegada: %A %H:%m\u001b[39m\u001b[39m'\u001b[39m)\n",
      "\u001b[1;31mTypeError\u001b[0m: 'horas' is an invalid keyword argument for __new__()"
     ]
    }
   ],
   "source": [
    ">>> hora_llegada('luna')\n",
    "'llegada luna: sabado 16:54'"
   ]
  },
  {
   "cell_type": "code",
   "execution_count": 68,
   "metadata": {},
   "outputs": [
    {
     "ename": "TypeError",
     "evalue": "'horas' is an invalid keyword argument for __new__()",
     "output_type": "error",
     "traceback": [
      "\u001b[1;31m---------------------------------------------------------------------------\u001b[0m",
      "\u001b[1;31mTypeError\u001b[0m                                 Traceback (most recent call last)",
      "\u001b[1;32mc:\\Users\\Aranza\\Documents\\Curso Microsoft\\Katas\\kata9.ipynb Cell 24'\u001b[0m in \u001b[0;36m<module>\u001b[1;34m\u001b[0m\n\u001b[1;32m----> <a href='vscode-notebook-cell:/c%3A/Users/Aranza/Documents/Curso%20Microsoft/Katas/kata9.ipynb#ch0000030?line=0'>1</a>\u001b[0m hora_llegada(\u001b[39m'\u001b[39;49m\u001b[39morbit, horas = 0.13\u001b[39;49m\u001b[39m'\u001b[39;49m)\n\u001b[0;32m      <a href='vscode-notebook-cell:/c%3A/Users/Aranza/Documents/Curso%20Microsoft/Katas/kata9.ipynb#ch0000030?line=1'>2</a>\u001b[0m \u001b[39m'\u001b[39m\u001b[39morbit arrival: jueves 14:11\u001b[39m\u001b[39m'\u001b[39m\n",
      "\u001b[1;32mc:\\Users\\Aranza\\Documents\\Curso Microsoft\\Katas\\kata9.ipynb Cell 21'\u001b[0m in \u001b[0;36mhora_llegada\u001b[1;34m(destino, horas)\u001b[0m\n\u001b[0;32m      <a href='vscode-notebook-cell:/c%3A/Users/Aranza/Documents/Curso%20Microsoft/Katas/kata9.ipynb#ch0000026?line=1'>2</a>\u001b[0m \u001b[39mdef\u001b[39;00m \u001b[39mhora_llegada\u001b[39m(destino, horas\u001b[39m=\u001b[39m\u001b[39m51\u001b[39m):\n\u001b[0;32m      <a href='vscode-notebook-cell:/c%3A/Users/Aranza/Documents/Curso%20Microsoft/Katas/kata9.ipynb#ch0000026?line=2'>3</a>\u001b[0m     now \u001b[39m=\u001b[39m datetime\u001b[39m.\u001b[39mnow()\n\u001b[1;32m----> <a href='vscode-notebook-cell:/c%3A/Users/Aranza/Documents/Curso%20Microsoft/Katas/kata9.ipynb#ch0000026?line=3'>4</a>\u001b[0m     llegada \u001b[39m=\u001b[39m now \u001b[39m+\u001b[39m timedelta(horas\u001b[39m=\u001b[39;49m\u001b[39m51\u001b[39;49m)\n\u001b[0;32m      <a href='vscode-notebook-cell:/c%3A/Users/Aranza/Documents/Curso%20Microsoft/Katas/kata9.ipynb#ch0000026?line=4'>5</a>\u001b[0m     \u001b[39mreturn\u001b[39;00m llegada\u001b[39m.\u001b[39mstrftime(\u001b[39mf\u001b[39m\u001b[39m'\u001b[39m\u001b[39m{\u001b[39;00mdestino\u001b[39m}\u001b[39;00m\u001b[39m llegada: %A %H:%m\u001b[39m\u001b[39m'\u001b[39m)\n",
      "\u001b[1;31mTypeError\u001b[0m: 'horas' is an invalid keyword argument for __new__()"
     ]
    }
   ],
   "source": [
    ">>> hora_llegada('orbit, horas = 0.13')\n",
    "'orbit arrival: jueves 14:11'"
   ]
  },
  {
   "cell_type": "code",
   "execution_count": 69,
   "metadata": {},
   "outputs": [],
   "source": [
    "def variable_length(*args):\n",
    "    print(args)"
   ]
  },
  {
   "cell_type": "code",
   "execution_count": 70,
   "metadata": {},
   "outputs": [
    {
     "name": "stdout",
     "output_type": "stream",
     "text": [
      "()\n",
      "('one', 'two')\n",
      "(None,)\n"
     ]
    },
    {
     "data": {
      "text/plain": [
       "(None,)"
      ]
     },
     "execution_count": 70,
     "metadata": {},
     "output_type": "execute_result"
    }
   ],
   "source": [
    ">>> variable_length()\n",
    "()\n",
    ">>> variable_length('one', 'two')\n",
    "('one', 'two')\n",
    ">>> variable_length(None)\n",
    "(None,)"
   ]
  },
  {
   "cell_type": "code",
   "execution_count": 72,
   "metadata": {},
   "outputs": [],
   "source": [
    "def sequence_time(*args):\n",
    "    total_minutes = sum(args)\n",
    "    if total_minutes < 60:\n",
    "        return f'Total time to launch is {total_minutes} minutes'\n",
    "    else:\n",
    "        return f'Total time to launch is {total_minutes/60} hours'"
   ]
  },
  {
   "cell_type": "code",
   "execution_count": 73,
   "metadata": {},
   "outputs": [
    {
     "data": {
      "text/plain": [
       "'Total time to launch is 1.1 hours'"
      ]
     },
     "execution_count": 73,
     "metadata": {},
     "output_type": "execute_result"
    }
   ],
   "source": [
    ">>> sequence_time(4, 14, 18)\n",
    "'Total time to launch is 36 minutes' \n",
    ">>> sequence_time(4, 14, 48)\n",
    "'Total time to launch is 1.1 hours'"
   ]
  }
 ],
 "metadata": {
  "interpreter": {
   "hash": "49de5bbfc9220849eae61ccf8c673b5bd151f48e47d5ebb5b22e87d98f805354"
  },
  "kernelspec": {
   "display_name": "Python 3.10.2 64-bit",
   "language": "python",
   "name": "python3"
  },
  "language_info": {
   "codemirror_mode": {
    "name": "ipython",
    "version": 3
   },
   "file_extension": ".py",
   "mimetype": "text/x-python",
   "name": "python",
   "nbconvert_exporter": "python",
   "pygments_lexer": "ipython3",
   "version": "3.10.2"
  },
  "orig_nbformat": 4
 },
 "nbformat": 4,
 "nbformat_minor": 2
}
