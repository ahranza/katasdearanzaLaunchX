{
 "cells": [
  {
   "cell_type": "code",
   "execution_count": 33,
   "metadata": {},
   "outputs": [
    {
     "name": "stdout",
     "output_type": "stream",
     "text": [
      "Advertencia\n"
     ]
    }
   ],
   "source": [
    "Velocidad = 49\n",
    "if a >= b:\n",
    "    print('Advertencia')\n",
    "else:\n",
    "    print('No hay problema')"
   ]
  },
  {
   "cell_type": "code",
   "execution_count": 34,
   "metadata": {},
   "outputs": [
    {
     "name": "stdout",
     "output_type": "stream",
     "text": [
      "Mirar el cielo\n"
     ]
    }
   ],
   "source": [
    "Velocidad = 19\n",
    "b = 20\n",
    "if a >= b:\n",
    "    print('Mirar el cielo')\n",
    "elif a == b:\n",
    "    print('Mirar al cielo')\n",
    "else:\n",
    "    print('No se verá nada')\n",
    "\n"
   ]
  },
  {
   "cell_type": "code",
   "execution_count": 35,
   "metadata": {},
   "outputs": [
    {
     "name": "stdout",
     "output_type": "stream",
     "text": [
      "Estamos seguros\n"
     ]
    }
   ],
   "source": [
    "a = 20\n",
    "b = 19\n",
    "if a >= b:\n",
    "    print('Estamos seguros')\n"
   ]
  },
  {
   "cell_type": "code",
   "execution_count": 36,
   "metadata": {},
   "outputs": [
    {
     "name": "stdout",
     "output_type": "stream",
     "text": [
      "Mirar al cielo\n"
     ]
    }
   ],
   "source": [
    "Velocidad = 25\n",
    "Tamaño = 78\n",
    "if a >= 25 and  b >= 25: \n",
    "    print('Cuidado')\n",
    "elif Velocidad > 20:\n",
    "    print('Mirar al cielo')\n",
    "elif Tamaño < 25:\n",
    "    print('Estamos seguros')\n",
    "else:\n",
    "    print('Estamos seguros')\n"
   ]
  }
 ],
 "metadata": {
  "interpreter": {
   "hash": "49de5bbfc9220849eae61ccf8c673b5bd151f48e47d5ebb5b22e87d98f805354"
  },
  "kernelspec": {
   "display_name": "Python 3.10.2 64-bit",
   "language": "python",
   "name": "python3"
  },
  "language_info": {
   "codemirror_mode": {
    "name": "ipython",
    "version": 3
   },
   "file_extension": ".py",
   "mimetype": "text/x-python",
   "name": "python",
   "nbconvert_exporter": "python",
   "pygments_lexer": "ipython3",
   "version": "3.10.2"
  },
  "orig_nbformat": 4
 },
 "nbformat": 4,
 "nbformat_minor": 2
}
