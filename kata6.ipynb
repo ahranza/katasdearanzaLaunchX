{
 "cells": [
  {
   "cell_type": "code",
   "execution_count": 23,
   "metadata": {},
   "outputs": [
    {
     "name": "stdout",
     "output_type": "stream",
     "text": [
      "primer planeta es mercurio\n",
      "segundo planeta es venus\n",
      "tercer planeta es tierra\n",
      "cuarto planetas es marte\n",
      "quinto planeta es jupiter\n",
      "sexto planeta es saturno\n",
      "septimo planeta es urano\n",
      "octavo planeta es neptuno\n"
     ]
    }
   ],
   "source": [
    "planetas = ('mercurio', 'venus', 'tierra', 'marte', 'jupiter', 'saturno', 'urano', 'neptuno')\n",
    "\n",
    "print('primer planeta es', planetas[0])\n",
    "print('segundo planeta es', planetas[1])\n",
    "print('tercer planeta es', planetas[2])\n",
    "print('cuarto planetas es', planetas[3])\n",
    "print('quinto planeta es', planetas[4])\n",
    "print('sexto planeta es', planetas[5])\n",
    "print('septimo planeta es', planetas[6])\n",
    "print('octavo planeta es', planetas[7])\n"
   ]
  },
  {
   "cell_type": "code",
   "execution_count": 10,
   "metadata": {},
   "outputs": [
    {
     "name": "stdout",
     "output_type": "stream",
     "text": [
      "Hay 8 planetas en el sistema solar\n"
     ]
    }
   ],
   "source": [
    "numerodeplanetas = len(planetas)\n",
    "print('Hay', numerodeplanetas, 'planetas en el sistema solar')\n"
   ]
  },
  {
   "cell_type": "code",
   "execution_count": 24,
   "metadata": {},
   "outputs": [
    {
     "name": "stdout",
     "output_type": "stream",
     "text": [
      "En realidad hay 9 planetas en el sistema solar\n"
     ]
    }
   ],
   "source": [
    "planetas = ['mercurio', 'venus', 'tierra', 'marte', 'jupiter', 'saturno', 'urano', 'neptuno']\n",
    "\n",
    "planetas.append('Pluton')\n",
    "numerodeplanetas = len(planetas)\n",
    "print('En realidad hay', numerodeplanetas, 'planetas en el sistema solar')\n"
   ]
  },
  {
   "cell_type": "code",
   "execution_count": 25,
   "metadata": {},
   "outputs": [
    {
     "name": "stdout",
     "output_type": "stream",
     "text": [
      "En realidad hay 9 planetas en el sistema solar\n",
      "El último planeta es Pluton\n"
     ]
    }
   ],
   "source": [
    "planetas = ['mercurio', 'venus', 'tierra', 'marte', 'jupiter', 'saturno', 'urano', 'neptuno']\n",
    "\n",
    "planetas.append('Pluton')\n",
    "numerodeplanetas = len(planetas)\n",
    "print('En realidad hay', numerodeplanetas, 'planetas en el sistema solar')\n",
    "\n",
    "print('El último planeta es', planetas[-1])\n"
   ]
  },
  {
   "cell_type": "markdown",
   "metadata": {},
   "source": [
    "Ejercicio 2"
   ]
  },
  {
   "cell_type": "code",
   "execution_count": 26,
   "metadata": {},
   "outputs": [],
   "source": [
    "planetas = ('mercurio', 'venus', 'tierra', 'marte', 'jupiter', 'saturno', 'urano', 'neptuno')\n",
    "\n",
    "usuarioplaneta = input('Venus')"
   ]
  },
  {
   "cell_type": "code",
   "execution_count": 19,
   "metadata": {},
   "outputs": [
    {
     "name": "stdout",
     "output_type": "stream",
     "text": [
      "marte es el 4 planeta\n"
     ]
    }
   ],
   "source": [
    "planetas = ('mercurio', 'venus', 'tierra', 'marte', 'jupiter', 'saturno', 'saturno', 'urano')\n",
    "\n",
    "marte_index = planetas.index('marte')\n",
    "print('marte es el', marte_index + 1, 'planeta')\n"
   ]
  },
  {
   "cell_type": "code",
   "execution_count": 27,
   "metadata": {},
   "outputs": [
    {
     "name": "stdout",
     "output_type": "stream",
     "text": [
      "Es el planeta numero 1 más cercano al sol\n"
     ]
    }
   ],
   "source": [
    "planetas = ('mercurio', 'venus', 'tierra', 'marte', 'jupiter', 'saturno', 'urano', 'neptuno')\n",
    " \n",
    "mercurio_index = planetas.index('mercurio')\n",
    "print('Es el planeta numero', mercurio_index + 1, 'más cercano al sol')"
   ]
  },
  {
   "cell_type": "code",
   "execution_count": 29,
   "metadata": {},
   "outputs": [
    {
     "name": "stdout",
     "output_type": "stream",
     "text": [
      "Es el planeta numero 1 más lejano al sol\n"
     ]
    }
   ],
   "source": [
    "planetas = ('mercurio', 'venus', 'tierra', 'marte', 'jupiter', 'saturno','urano', 'neptuno')\n",
    " \n",
    "urano_index = planetas.index('urano')\n",
    "print('Es el planeta numero', mercurio_index + 1, 'más lejano al sol')"
   ]
  }
 ],
 "metadata": {
  "interpreter": {
   "hash": "49de5bbfc9220849eae61ccf8c673b5bd151f48e47d5ebb5b22e87d98f805354"
  },
  "kernelspec": {
   "display_name": "Python 3.10.2 64-bit",
   "language": "python",
   "name": "python3"
  },
  "language_info": {
   "codemirror_mode": {
    "name": "ipython",
    "version": 3
   },
   "file_extension": ".py",
   "mimetype": "text/x-python",
   "name": "python",
   "nbconvert_exporter": "python",
   "pygments_lexer": "ipython3",
   "version": "3.10.2"
  },
  "orig_nbformat": 4
 },
 "nbformat": 4,
 "nbformat_minor": 2
}
